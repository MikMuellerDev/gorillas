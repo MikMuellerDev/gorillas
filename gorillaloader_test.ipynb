{
 "cells": [
  {
   "cell_type": "code",
   "execution_count": 25,
   "id": "13acbe25",
   "metadata": {},
   "outputs": [
    {
     "name": "stdout",
     "output_type": "stream",
     "text": [
      "The autoreload extension is already loaded. To reload it, use:\n",
      "  %reload_ext autoreload\n"
     ]
    }
   ],
   "source": [
    "%load_ext autoreload\n",
    "%autoreload 2"
   ]
  },
  {
   "cell_type": "code",
   "execution_count": null,
   "id": "de6a4a5a",
   "metadata": {},
   "outputs": [
    {
     "name": "stdout",
     "output_type": "stream",
     "text": [
      "Using DP cache...\n",
      "GORILLA_DATA: Using data from index 0 to 42, covering 42, total 865 DP.\n"
     ]
    }
   ],
   "source": [
    "from spac_gorillaloader import GorillaDataset, load_datapoints\n",
    "from torch.utils.data import DataLoader # type: ignore\n",
    "\n",
    "datapoints = load_datapoints()\n",
    "ds = GorillaDataset(\n",
    "    datapoints=datapoints,\n",
    "    percent_start=0,\n",
    "    percent_end=5,\n",
    ")\n",
    "\n",
    "dl = DataLoader(ds, batch_size=32, shuffle=True)"
   ]
  }
 ],
 "metadata": {
  "kernelspec": {
   "display_name": "conda",
   "language": "python",
   "name": "python3"
  },
  "language_info": {
   "codemirror_mode": {
    "name": "ipython",
    "version": 3
   },
   "file_extension": ".py",
   "mimetype": "text/x-python",
   "name": "python",
   "nbconvert_exporter": "python",
   "pygments_lexer": "ipython3",
   "version": "3.10.18"
  }
 },
 "nbformat": 4,
 "nbformat_minor": 5
}
