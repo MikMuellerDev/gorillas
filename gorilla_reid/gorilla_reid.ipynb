{
 "cells": [
  {
   "cell_type": "code",
   "execution_count": 16,
   "id": "939b5e92",
   "metadata": {},
   "outputs": [
    {
     "name": "stdout",
     "output_type": "stream",
     "text": [
      "The autoreload extension is already loaded. To reload it, use:\n",
      "  %reload_ext autoreload\n"
     ]
    }
   ],
   "source": [
    "%load_ext autoreload\n",
    "%autoreload 2"
   ]
  },
  {
   "cell_type": "code",
   "execution_count": null,
   "id": "b0899252",
   "metadata": {},
   "outputs": [
    {
     "name": "stdout",
     "output_type": "stream",
     "text": [
      "[LOAD] Using cached datapoint index...\n",
      "[DATASET] Ignoring 0 datapoints due to data distribution.\n",
      "[DATASET]: Using data from index 0 to 113213, covering 113213, total 161735. (w. transformations: 113213)\n",
      "[DATASET] Ignoring 0 datapoints due to data distribution.\n",
      "[DATASET]: Using data from index 113214 to 137473, covering 24259, total 161735.\n",
      "[DATASET] Ignoring 0 datapoints due to data distribution.\n",
      "[DATASET]: Using data from index 137474 to 161734, covering 24260, total 161735.\n"
     ]
    }
   ],
   "source": [
    "from torch.utils.data import DataLoader\n",
    "from spac_dataloader.spac_gorillaloader import GorillaDataset\n",
    "from spac_dataloader.datapoint import load_datapoints\n",
    "\n",
    "device = 'cuda:0'\n",
    "\n",
    "batch_size = 64\n",
    "\n",
    "dir = \"/scratch2/gorillamonitor2/spac23+24-face_45-squared\"\n",
    "\n",
    "datapoints = load_datapoints(dir)\n",
    "\n",
    "dataset_train = GorillaDataset(datapoints=datapoints, percent_start=0, percent_end=70, include_transformations=True)\n",
    "dataloader_train = DataLoader(dataset_train, batch_size=batch_size, shuffle=True)\n",
    "\n",
    "dataset_val = GorillaDataset(datapoints=datapoints, percent_start=70, percent_end=85, include_transformations=False)\n",
    "dataloader_val = DataLoader(dataset_val, batch_size=batch_size, shuffle=True)\n",
    "\n",
    "dataset_test = GorillaDataset(datapoints=datapoints, percent_start=85, percent_end=100, include_transformations=False)\n",
    "dataloader_test = DataLoader(dataset_test, batch_size=batch_size, shuffle=True)\n"
   ]
  },
  {
   "cell_type": "code",
   "execution_count": 19,
   "id": "42842c40",
   "metadata": {},
   "outputs": [],
   "source": [
    "import timm\n",
    "\n",
    "#model = timm.create_model('resnet18.a1_in1k', in_chans=3, num_classes=len(label_mapping), pretrained=True)\n",
    "\n",
    "# Create a ViT model for 3-channel input and 42 output classes\n",
    "model = timm.create_model(\n",
    "    'vit_base_patch16_224',\n",
    "    pretrained=True,\n",
    "    in_chans=3\n",
    ")"
   ]
  },
  {
   "cell_type": "code",
   "execution_count": null,
   "id": "9bb1bc5c",
   "metadata": {},
   "outputs": [
    {
     "name": "stdout",
     "output_type": "stream",
     "text": [
      "No checkpoint found — starting from scratch.\n"
     ]
    },
    {
     "data": {
      "text/html": [],
      "text/plain": [
       "<IPython.core.display.HTML object>"
      ]
     },
     "metadata": {},
     "output_type": "display_data"
    },
    {
     "data": {
      "text/html": [
       "Tracking run with wandb version 0.22.1"
      ],
      "text/plain": [
       "<IPython.core.display.HTML object>"
      ]
     },
     "metadata": {},
     "output_type": "display_data"
    },
    {
     "data": {
      "text/html": [
       "Run data is saved locally in <code>/workspace/gorilla_reid/wandb/run-20251015_083109-tjkldbdw</code>"
      ],
      "text/plain": [
       "<IPython.core.display.HTML object>"
      ]
     },
     "metadata": {},
     "output_type": "display_data"
    },
    {
     "data": {
      "text/html": [
       "Syncing run <strong><a href='https://wandb.ai/mikmuellerdev-university-of-potsdam/GORILLA_FACE/runs/tjkldbdw' target=\"_blank\">training</a></strong> to <a href='https://wandb.ai/mikmuellerdev-university-of-potsdam/GORILLA_FACE' target=\"_blank\">Weights & Biases</a> (<a href='https://wandb.me/developer-guide' target=\"_blank\">docs</a>)<br>"
      ],
      "text/plain": [
       "<IPython.core.display.HTML object>"
      ]
     },
     "metadata": {},
     "output_type": "display_data"
    },
    {
     "data": {
      "text/html": [
       " View project at <a href='https://wandb.ai/mikmuellerdev-university-of-potsdam/GORILLA_FACE' target=\"_blank\">https://wandb.ai/mikmuellerdev-university-of-potsdam/GORILLA_FACE</a>"
      ],
      "text/plain": [
       "<IPython.core.display.HTML object>"
      ]
     },
     "metadata": {},
     "output_type": "display_data"
    },
    {
     "data": {
      "text/html": [
       " View run at <a href='https://wandb.ai/mikmuellerdev-university-of-potsdam/GORILLA_FACE/runs/tjkldbdw' target=\"_blank\">https://wandb.ai/mikmuellerdev-university-of-potsdam/GORILLA_FACE/runs/tjkldbdw</a>"
      ],
      "text/plain": [
       "<IPython.core.display.HTML object>"
      ]
     },
     "metadata": {},
     "output_type": "display_data"
    },
    {
     "name": "stdout",
     "output_type": "stream",
     "text": [
      "Starting epoch 0\n"
     ]
    },
    {
     "name": "stderr",
     "output_type": "stream",
     "text": [
      "Traceback (most recent call last):\n",
      "  File \"/workspace/gorilla_reid/gorilla_model/gorilla_model.py\", line 95, in train\n",
      "    loss.backward()\n",
      "socket.send() raised exception.\n"
     ]
    }
   ],
   "source": [
    "import torch\n",
    "from gorilla_model import gorilla_model\n",
    "\n",
    "\n",
    "epochs = 10\n",
    "learning_rate = 0.001\n",
    "\n",
    "\n",
    "gorilla_model.train(\n",
    "    model,\n",
    "    epochs=epochs,\n",
    "    learning_rate=learning_rate,\n",
    "    dataloader_train=dataloader_train,\n",
    "    dataloader_val=dataloader_val,\n",
    ")"
   ]
  },
  {
   "cell_type": "code",
   "execution_count": null,
   "id": "9217c501",
   "metadata": {},
   "outputs": [],
   "source": [
    "torch.save(model.state_dict(), 'face_model.pth')"
   ]
  },
  {
   "cell_type": "code",
   "execution_count": null,
   "id": "6b49b097",
   "metadata": {},
   "outputs": [],
   "source": [
    "import timm\n",
    "from visualize import visualize_embeddings\n",
    "import torch\n",
    "from gorilla_reid.gorilla_model.k_nearest_neighbor import calculate_accuracy, get_dataset_embeddings\n",
    "\n",
    "device = 'cuda:0'\n",
    "\n",
    "loaded_model = timm.create_model(\n",
    "    'vit_base_patch16_224',\n",
    "    pretrained=True,\n",
    "    in_chans=3\n",
    ")\n",
    "\n",
    "weights = torch.load('/workspace/gorilla_reid/checkpoints/epoch_73.pt', map_location=device)\n",
    "loaded_model.load_state_dict(weights['model_state_dict'])\n",
    "loaded_model = loaded_model.to(device)\n",
    "\n",
    "# Load model weights into the model\n",
    "loaded_model.eval()\n",
    "\n",
    "batch_size = 32\n",
    "\n",
    "# datapoints = load_datapoints()\n",
    "\n",
    "# dataset_vis = GorillaDataset(datapoints=datapoints, percent_start=0, percent_end=100)\n",
    "# dataloader_vis = DataLoader(dataset_vis, batch_size=batch_size, shuffle=True)\n",
    "\n",
    "annotated_embeddings = get_dataset_embeddings(dataloader=dataloader_val, device=device, model=loaded_model)\n",
    "accuracy = calculate_accuracy(annotated_search_space=annotated_embeddings)"
   ]
  },
  {
   "cell_type": "code",
   "execution_count": null,
   "id": "b65fae35",
   "metadata": {},
   "outputs": [],
   "source": [
    "print(f'Accuracy: {accuracy}')\n",
    "\n",
    "all_embeddings = [embedding.cpu() for label, embedding in annotated_embeddings]\n",
    "all_labels = [label for label, embedding in annotated_embeddings]\n",
    "visualize_embeddings(all_embeddings, all_labels, method='psa', figsize=(8, 4))\n",
    "visualize_embeddings(all_embeddings, all_labels, method='tsne', figsize=(8, 4))"
   ]
  }
 ],
 "metadata": {
  "kernelspec": {
   "display_name": "conda",
   "language": "python",
   "name": "python3"
  },
  "language_info": {
   "codemirror_mode": {
    "name": "ipython",
    "version": 3
   },
   "file_extension": ".py",
   "mimetype": "text/x-python",
   "name": "python",
   "nbconvert_exporter": "python",
   "pygments_lexer": "ipython3",
   "version": "3.10.18"
  }
 },
 "nbformat": 4,
 "nbformat_minor": 5
}
