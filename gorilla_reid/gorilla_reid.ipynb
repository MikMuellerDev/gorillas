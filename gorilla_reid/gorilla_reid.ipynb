{
 "cells": [
  {
   "cell_type": "code",
   "execution_count": 3,
   "id": "939b5e92",
   "metadata": {},
   "outputs": [
    {
     "name": "stdout",
     "output_type": "stream",
     "text": [
      "The autoreload extension is already loaded. To reload it, use:\n",
      "  %reload_ext autoreload\n"
     ]
    }
   ],
   "source": [
    "%load_ext autoreload\n",
    "%autoreload 2"
   ]
  },
  {
   "cell_type": "code",
   "execution_count": null,
   "id": "b0899252",
   "metadata": {},
   "outputs": [
    {
     "data": {
      "application/vnd.jupyter.widget-view+json": {
       "model_id": "bf3d6913f9524dbfbf45289dd37d21d5",
       "version_major": 2,
       "version_minor": 0
      },
      "text/plain": [
       "[LOAD] Indexing...:   0%|          | 0/161735 [00:00<?, ?it/s]"
      ]
     },
     "metadata": {},
     "output_type": "display_data"
    },
    {
     "ename": "KeyboardInterrupt",
     "evalue": "",
     "output_type": "error",
     "traceback": [
      "\u001b[0;31m---------------------------------------------------------------------------\u001b[0m",
      "\u001b[0;31mKeyboardInterrupt\u001b[0m                         Traceback (most recent call last)",
      "Cell \u001b[0;32mIn[8], line 11\u001b[0m\n\u001b[1;32m      7\u001b[0m batch_size \u001b[38;5;241m=\u001b[39m \u001b[38;5;241m32\u001b[39m\n\u001b[1;32m      9\u001b[0m \u001b[38;5;28mdir\u001b[39m \u001b[38;5;241m=\u001b[39m \u001b[38;5;124m\"\u001b[39m\u001b[38;5;124m/scratch2/gorillamonitor2/spac23+24-face_45-squared\u001b[39m\u001b[38;5;124m\"\u001b[39m\n\u001b[0;32m---> 11\u001b[0m datapoints \u001b[38;5;241m=\u001b[39m \u001b[43mload_datapoints\u001b[49m\u001b[43m(\u001b[49m\u001b[38;5;28;43mdir\u001b[39;49m\u001b[43m)\u001b[49m\n\u001b[1;32m     13\u001b[0m dataset_train \u001b[38;5;241m=\u001b[39m GorillaDataset(datapoints\u001b[38;5;241m=\u001b[39mdatapoints, percent_start\u001b[38;5;241m=\u001b[39m\u001b[38;5;241m0\u001b[39m, percent_end\u001b[38;5;241m=\u001b[39m\u001b[38;5;241m70\u001b[39m, include_transformations\u001b[38;5;241m=\u001b[39m\u001b[38;5;28;01mTrue\u001b[39;00m)\n\u001b[1;32m     14\u001b[0m dataloader_train \u001b[38;5;241m=\u001b[39m DataLoader(dataset_train, batch_size\u001b[38;5;241m=\u001b[39mbatch_size, shuffle\u001b[38;5;241m=\u001b[39m\u001b[38;5;28;01mTrue\u001b[39;00m)\n",
      "File \u001b[0;32m/workspace/gorilla_reid/spac_dataloader/spac_gorillaloader.py:52\u001b[0m, in \u001b[0;36mload_datapoints\u001b[0;34m(image_dir)\u001b[0m\n\u001b[1;32m     50\u001b[0m \u001b[38;5;28;01mif\u001b[39;00m filename\u001b[38;5;241m.\u001b[39mendswith(\u001b[38;5;124m\"\u001b[39m\u001b[38;5;124m.png\u001b[39m\u001b[38;5;124m\"\u001b[39m):\n\u001b[1;32m     51\u001b[0m     complete_path_image \u001b[38;5;241m=\u001b[39m os\u001b[38;5;241m.\u001b[39mpath\u001b[38;5;241m.\u001b[39mjoin(image_dir, filename)\n\u001b[0;32m---> 52\u001b[0m     dp \u001b[38;5;241m=\u001b[39m \u001b[43mutils\u001b[49m\u001b[38;5;241;43m.\u001b[39;49m\u001b[43mdatapoint_from_path\u001b[49m\u001b[43m(\u001b[49m\u001b[43mcomplete_path_image\u001b[49m\u001b[43m,\u001b[49m\u001b[43m \u001b[49m\u001b[38;5;28;43;01mTrue\u001b[39;49;00m\u001b[43m)\u001b[49m\n\u001b[1;32m     53\u001b[0m     datapoints\u001b[38;5;241m.\u001b[39mappend(dp)\n\u001b[1;32m     54\u001b[0m     \u001b[38;5;28;01mif\u001b[39;00m idx \u001b[38;5;241m%\u001b[39m stepsize \u001b[38;5;241m==\u001b[39m \u001b[38;5;241m0\u001b[39m:\n",
      "File \u001b[0;32m/workspace/gorilla_reid/spac_dataloader/utils.py:39\u001b[0m, in \u001b[0;36mdatapoint_from_path\u001b[0;34m(abspath, with_transformed_filelist)\u001b[0m\n\u001b[1;32m     37\u001b[0m transformations \u001b[38;5;241m=\u001b[39m []\n\u001b[1;32m     38\u001b[0m \u001b[38;5;28;01mif\u001b[39;00m with_transformed_filelist:\n\u001b[0;32m---> 39\u001b[0m     transformations \u001b[38;5;241m=\u001b[39m \u001b[43mget_modified_filelist\u001b[49m\u001b[43m(\u001b[49m\u001b[43mfilename\u001b[49m\u001b[43m)\u001b[49m\n\u001b[1;32m     41\u001b[0m dp \u001b[38;5;241m=\u001b[39m datapoint\u001b[38;5;241m.\u001b[39mSPACDataPoint(\n\u001b[1;32m     42\u001b[0m     gorilla_id\u001b[38;5;241m=\u001b[39mgorilla_id,\n\u001b[1;32m     43\u001b[0m     camera\u001b[38;5;241m=\u001b[39mcamera_id,\n\u001b[0;32m   (...)\u001b[0m\n\u001b[1;32m     46\u001b[0m     transformations\u001b[38;5;241m=\u001b[39mtransformations\n\u001b[1;32m     47\u001b[0m )\n\u001b[1;32m     48\u001b[0m \u001b[38;5;28;01mreturn\u001b[39;00m dp\n",
      "File \u001b[0;32m/workspace/gorilla_reid/spac_dataloader/utils.py:58\u001b[0m, in \u001b[0;36mget_modified_filelist\u001b[0;34m(base)\u001b[0m\n\u001b[1;32m     56\u001b[0m \u001b[38;5;28;01mfor\u001b[39;00m [idx, file] \u001b[38;5;129;01min\u001b[39;00m \u001b[38;5;28menumerate\u001b[39m(os\u001b[38;5;241m.\u001b[39mlistdir(directory)):\n\u001b[1;32m     57\u001b[0m     filename \u001b[38;5;241m=\u001b[39m os\u001b[38;5;241m.\u001b[39mfsdecode(file)\n\u001b[0;32m---> 58\u001b[0m     original_name \u001b[38;5;241m=\u001b[39m \u001b[43mfilename\u001b[49m\u001b[38;5;241;43m.\u001b[39;49m\u001b[43msplit\u001b[49m\u001b[43m(\u001b[49m\u001b[38;5;124;43m\"\u001b[39;49m\u001b[38;5;124;43m_rotated\u001b[39;49m\u001b[38;5;124;43m\"\u001b[39;49m\u001b[43m)\u001b[49m[\u001b[38;5;241m0\u001b[39m]\n\u001b[1;32m     60\u001b[0m     \u001b[38;5;28;01mif\u001b[39;00m original_name \u001b[38;5;241m==\u001b[39m base:\n\u001b[1;32m     61\u001b[0m         out\u001b[38;5;241m.\u001b[39mappend(filename)\n",
      "\u001b[0;31mKeyboardInterrupt\u001b[0m: "
     ]
    }
   ],
   "source": [
    "from torch.utils.data import DataLoader\n",
    "from spac_dataloader.spac_gorillaloader import GorillaDataset, load_datapoints\n",
    "from spac_dataloader import utils\n",
    "\n",
    "device = 'cuda:0'\n",
    "\n",
    "batch_size = 32\n",
    "\n",
    "dir = \"/scratch2/gorillamonitor2/spac23+24-face_45-squared\"\n",
    "\n",
    "datapoints = load_datapoints(dir)\n",
    "\n",
    "dataset_train = GorillaDataset(datapoints=datapoints, percent_start=0, percent_end=70, include_transformations=False)\n",
    "dataloader_train = DataLoader(dataset_train, batch_size=batch_size, shuffle=True)\n",
    "\n",
    "dataset_val = GorillaDataset(datapoints=datapoints, percent_start=70, percent_end=85, include_transformations=False)\n",
    "dataloader_val = DataLoader(dataset_val, batch_size=batch_size, shuffle=True)\n",
    "\n",
    "dataset_test = GorillaDataset(datapoints=datapoints, percent_start=85, percent_end=100, include_transformations=False)\n",
    "dataloader_test = DataLoader(dataset_test, batch_size=batch_size, shuffle=True)\n"
   ]
  },
  {
   "cell_type": "code",
   "execution_count": null,
   "id": "42842c40",
   "metadata": {},
   "outputs": [],
   "source": [
    "import timm\n",
    "\n",
    "#model = timm.create_model('resnet18.a1_in1k', in_chans=3, num_classes=len(label_mapping), pretrained=True)\n",
    "\n",
    "# Create a ViT model for 3-channel input and 42 output classes\n",
    "model = timm.create_model(\n",
    "    'vit_base_patch16_224',\n",
    "    pretrained=True,\n",
    "    in_chans=3\n",
    ")"
   ]
  },
  {
   "cell_type": "code",
   "execution_count": null,
   "id": "9bb1bc5c",
   "metadata": {},
   "outputs": [],
   "source": [
    "import torch\n",
    "from gorilla_model import train\n",
    "\n",
    "\n",
    "epochs = 100\n",
    "learning_rate = 0.001\n",
    "\n",
    "\n",
    "train(\n",
    "    model,\n",
    "    epochs=epochs,\n",
    "    learning_rate=learning_rate,\n",
    "    dataloader_train=dataloader_train,\n",
    "    dataloader_val=dataloader_val,\n",
    ")"
   ]
  },
  {
   "cell_type": "code",
   "execution_count": null,
   "id": "9217c501",
   "metadata": {},
   "outputs": [],
   "source": [
    "torch.save(model.state_dict(), 'face_model.pth')"
   ]
  },
  {
   "cell_type": "code",
   "execution_count": null,
   "id": "6b49b097",
   "metadata": {},
   "outputs": [],
   "source": [
    "import timm\n",
    "from visualize import visualize_embeddings\n",
    "import torch\n",
    "from gorilla_reid.k_nearest_neighbor import calculate_accuracy, get_dataset_embeddings\n",
    "\n",
    "device = 'cuda:0'\n",
    "\n",
    "loaded_model = timm.create_model(\n",
    "    'vit_base_patch16_224',\n",
    "    pretrained=True,\n",
    "    in_chans=3\n",
    ")\n",
    "\n",
    "weights = torch.load('/workspace/gorilla_reid/checkpoints/epoch_73.pt', map_location=device)\n",
    "loaded_model.load_state_dict(weights['model_state_dict'])\n",
    "loaded_model = loaded_model.to(device)\n",
    "\n",
    "# Load model weights into the model\n",
    "loaded_model.eval()\n",
    "\n",
    "batch_size = 32\n",
    "\n",
    "# datapoints = load_datapoints()\n",
    "\n",
    "# dataset_vis = GorillaDataset(datapoints=datapoints, percent_start=0, percent_end=100)\n",
    "# dataloader_vis = DataLoader(dataset_vis, batch_size=batch_size, shuffle=True)\n",
    "\n",
    "annotated_embeddings = get_dataset_embeddings(dataloader=dataloader_val, device=device, model=loaded_model)\n",
    "accuracy = calculate_accuracy(annotated_search_space=annotated_embeddings)"
   ]
  },
  {
   "cell_type": "code",
   "execution_count": null,
   "id": "b65fae35",
   "metadata": {},
   "outputs": [],
   "source": [
    "print(f'Accuracy: {accuracy}')\n",
    "\n",
    "all_embeddings = [embedding.cpu() for label, embedding in annotated_embeddings]\n",
    "all_labels = [label for label, embedding in annotated_embeddings]\n",
    "visualize_embeddings(all_embeddings, all_labels, method='psa', figsize=(8, 4))\n",
    "visualize_embeddings(all_embeddings, all_labels, method='tsne', figsize=(8, 4))"
   ]
  }
 ],
 "metadata": {
  "kernelspec": {
   "display_name": "conda",
   "language": "python",
   "name": "python3"
  },
  "language_info": {
   "codemirror_mode": {
    "name": "ipython",
    "version": 3
   },
   "file_extension": ".py",
   "mimetype": "text/x-python",
   "name": "python",
   "nbconvert_exporter": "python",
   "pygments_lexer": "ipython3",
   "version": "3.10.18"
  }
 },
 "nbformat": 4,
 "nbformat_minor": 5
}
