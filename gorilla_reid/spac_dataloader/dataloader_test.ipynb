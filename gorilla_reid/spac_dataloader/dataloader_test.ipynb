{
 "cells": [
  {
   "cell_type": "code",
   "execution_count": 1,
   "id": "075fc94e",
   "metadata": {},
   "outputs": [],
   "source": [
    "%load_ext autoreload\n",
    "%autoreload 2"
   ]
  },
  {
   "cell_type": "code",
   "execution_count": 10,
   "id": "0ecb90cb",
   "metadata": {},
   "outputs": [
    {
     "name": "stdout",
     "output_type": "stream",
     "text": [
      "[LOAD] Using cached datapoint index...\n",
      "Deleted 15 datapoints due to data distribution.\n",
      "GORILLA_DATA: Using data from index 0 to 604, covering 604, total 865 DP.\n",
      "Deleted 41 datapoints due to data distribution.\n",
      "GORILLA_DATA: Using data from index 605 to 734, covering 129, total 865 DP.\n",
      "Deleted 29 datapoints due to data distribution.\n",
      "GORILLA_DATA: Using data from index 735 to 864, covering 129, total 865 DP.\n"
     ]
    }
   ],
   "source": [
    "from torch.utils.data import DataLoader\n",
    "from spac_gorillaloader import GorillaDataset, load_datapoints\n",
    "\n",
    "device = 'cuda:0'\n",
    "\n",
    "batch_size = 32\n",
    "\n",
    "datapoints = load_datapoints()\n",
    "\n",
    "dataset_train = GorillaDataset(datapoints=datapoints, percent_start=0, percent_end=70)\n",
    "dataloader_train = DataLoader(dataset_train, batch_size=batch_size, shuffle=True)\n",
    "\n",
    "dataset_val = GorillaDataset(datapoints=datapoints, percent_start=70, percent_end=85)\n",
    "dataloader_val = DataLoader(dataset_val, batch_size=batch_size, shuffle=True)\n",
    "\n",
    "dataset_test = GorillaDataset(datapoints=datapoints, percent_start=85, percent_end=100)\n",
    "dataloader_test = DataLoader(dataset_test, batch_size=batch_size, shuffle=True)\n"
   ]
  }
 ],
 "metadata": {
  "kernelspec": {
   "display_name": "conda",
   "language": "python",
   "name": "python3"
  },
  "language_info": {
   "codemirror_mode": {
    "name": "ipython",
    "version": 3
   },
   "file_extension": ".py",
   "mimetype": "text/x-python",
   "name": "python",
   "nbconvert_exporter": "python",
   "pygments_lexer": "ipython3",
   "version": "3.10.18"
  }
 },
 "nbformat": 4,
 "nbformat_minor": 5
}
