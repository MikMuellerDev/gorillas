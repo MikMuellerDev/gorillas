{
 "cells": [
  {
   "cell_type": "code",
   "execution_count": 1,
   "id": "3dc023d0",
   "metadata": {},
   "outputs": [],
   "source": [
    "device = 'cuda:0'"
   ]
  },
  {
   "cell_type": "code",
   "execution_count": 2,
   "id": "fca3ba95",
   "metadata": {},
   "outputs": [],
   "source": [
    "from torchvision.datasets import MNIST\n",
    "from torchvision import transforms\n",
    "from torch.utils.data import DataLoader\n",
    "\n",
    "transform = transforms.Compose([\n",
    "    transforms.Grayscale(num_output_channels=3),\n",
    "    transforms.Resize((224, 224)),\n",
    "    transforms.ToTensor(),\n",
    "])\n",
    "\n",
    "train_dataset = MNIST(root='./mnist',train=True, download=True, transform=transform)\n",
    "dataloader = DataLoader(train_dataset, batch_size=32)\n",
    "\n",
    "validation_dataset = MNIST(root='./mnist', train=False, download=True, transform=transform)\n",
    "dataloader_val = DataLoader(validation_dataset, batch_size=32)\n"
   ]
  },
  {
   "cell_type": "code",
   "execution_count": 3,
   "id": "9ed1607f",
   "metadata": {},
   "outputs": [],
   "source": [
    "import timm\n",
    "\n",
    "model = timm.create_model('resnet18.a1_in1k', pretrained=False)"
   ]
  },
  {
   "cell_type": "code",
   "execution_count": null,
   "id": "430d4c2e",
   "metadata": {},
   "outputs": [
    {
     "name": "stderr",
     "output_type": "stream",
     "text": [
      "\u001b[34m\u001b[1mwandb\u001b[0m: Currently logged in as: \u001b[33mmikmuellerdev\u001b[0m (\u001b[33mmikmuellerdev-university-of-potsdam\u001b[0m) to \u001b[32mhttps://api.wandb.ai\u001b[0m. Use \u001b[1m`wandb login --relogin`\u001b[0m to force relogin\n"
     ]
    },
    {
     "data": {
      "text/html": [],
      "text/plain": [
       "<IPython.core.display.HTML object>"
      ]
     },
     "metadata": {},
     "output_type": "display_data"
    },
    {
     "data": {
      "text/html": [
       "Tracking run with wandb version 0.22.1"
      ],
      "text/plain": [
       "<IPython.core.display.HTML object>"
      ]
     },
     "metadata": {},
     "output_type": "display_data"
    },
    {
     "data": {
      "text/html": [
       "Run data is saved locally in <code>/workspace/wandb/run-20251008_093407-gk1utg7k</code>"
      ],
      "text/plain": [
       "<IPython.core.display.HTML object>"
      ]
     },
     "metadata": {},
     "output_type": "display_data"
    },
    {
     "data": {
      "text/html": [
       "Syncing run <strong><a href='https://wandb.ai/mikmuellerdev-university-of-potsdam/MNIST/runs/gk1utg7k' target=\"_blank\">training</a></strong> to <a href='https://wandb.ai/mikmuellerdev-university-of-potsdam/MNIST' target=\"_blank\">Weights & Biases</a> (<a href='https://wandb.me/developer-guide' target=\"_blank\">docs</a>)<br>"
      ],
      "text/plain": [
       "<IPython.core.display.HTML object>"
      ]
     },
     "metadata": {},
     "output_type": "display_data"
    },
    {
     "data": {
      "text/html": [
       " View project at <a href='https://wandb.ai/mikmuellerdev-university-of-potsdam/MNIST' target=\"_blank\">https://wandb.ai/mikmuellerdev-university-of-potsdam/MNIST</a>"
      ],
      "text/plain": [
       "<IPython.core.display.HTML object>"
      ]
     },
     "metadata": {},
     "output_type": "display_data"
    },
    {
     "data": {
      "text/html": [
       " View run at <a href='https://wandb.ai/mikmuellerdev-university-of-potsdam/MNIST/runs/gk1utg7k' target=\"_blank\">https://wandb.ai/mikmuellerdev-university-of-potsdam/MNIST/runs/gk1utg7k</a>"
      ],
      "text/plain": [
       "<IPython.core.display.HTML object>"
      ]
     },
     "metadata": {},
     "output_type": "display_data"
    },
    {
     "name": "stdout",
     "output_type": "stream",
     "text": [
      "Starting epoch 0\n",
      "Starting epoch 1\n",
      "Starting epoch 2\n",
      "Starting epoch 3\n",
      "Starting epoch 4\n",
      "Starting epoch 5\n",
      "Starting epoch 6\n",
      "Starting epoch 7\n",
      "Starting epoch 8\n",
      "Starting epoch 9\n"
     ]
    },
    {
     "data": {
      "text/html": [],
      "text/plain": [
       "<IPython.core.display.HTML object>"
      ]
     },
     "metadata": {},
     "output_type": "display_data"
    },
    {
     "data": {
      "text/html": [
       "<br>    <style><br>        .wandb-row {<br>            display: flex;<br>            flex-direction: row;<br>            flex-wrap: wrap;<br>            justify-content: flex-start;<br>            width: 100%;<br>        }<br>        .wandb-col {<br>            display: flex;<br>            flex-direction: column;<br>            flex-basis: 100%;<br>            flex: 1;<br>            padding: 10px;<br>        }<br>    </style><br><div class=\"wandb-row\"><div class=\"wandb-col\"><h3>Run history:</h3><br/><table class=\"wandb\"><tr><td>batch</td><td>▁▁▁▁▂▂▂▂▃▃▃▃▃▃▃▄▄▄▄▅▅▅▅▅▅▆▆▆▆▆▇▇▇▇▇▇▇███</td></tr><tr><td>batch_loss</td><td>█▅▁▃▁▁▁▁▁▁▁▁▁▁▁▁▁▁▁▁▁▁▁▁▁▁▁▁▁▁▁▁▁▁▁▁▁▁▁▂</td></tr><tr><td>epoch</td><td>▁▁▂▂▃▃▃▃▄▄▅▅▆▆▆▆▇▇██</td></tr><tr><td>train/loss</td><td>█▂▂▂▁▁▁▁▁▁</td></tr><tr><td>val/loss</td><td>█▂▂▁▂▁▁▁▂▁</td></tr></table><br/></div><div class=\"wandb-col\"><h3>Run summary:</h3><br/><table class=\"wandb\"><tr><td>batch</td><td>18725</td></tr><tr><td>batch_loss</td><td>0.0</td></tr><tr><td>epoch</td><td>9</td></tr><tr><td>train/loss</td><td>0.00984</td></tr><tr><td>val/loss</td><td>0.02383</td></tr></table><br/></div></div>"
      ],
      "text/plain": [
       "<IPython.core.display.HTML object>"
      ]
     },
     "metadata": {},
     "output_type": "display_data"
    },
    {
     "data": {
      "text/html": [
       " View run <strong style=\"color:#cdcd00\">training</strong> at: <a href='https://wandb.ai/mikmuellerdev-university-of-potsdam/MNIST/runs/gk1utg7k' target=\"_blank\">https://wandb.ai/mikmuellerdev-university-of-potsdam/MNIST/runs/gk1utg7k</a><br> View project at: <a href='https://wandb.ai/mikmuellerdev-university-of-potsdam/MNIST' target=\"_blank\">https://wandb.ai/mikmuellerdev-university-of-potsdam/MNIST</a><br>Synced 5 W&B file(s), 0 media file(s), 0 artifact file(s) and 0 other file(s)"
      ],
      "text/plain": [
       "<IPython.core.display.HTML object>"
      ]
     },
     "metadata": {},
     "output_type": "display_data"
    },
    {
     "data": {
      "text/html": [
       "Find logs at: <code>./wandb/run-20251008_093407-gk1utg7k/logs</code>"
      ],
      "text/plain": [
       "<IPython.core.display.HTML object>"
      ]
     },
     "metadata": {},
     "output_type": "display_data"
    }
   ],
   "source": [
    "import torch\n",
    "import wandb\n",
    "from torch import nn, optim\n",
    "\n",
    "epochs = 10\n",
    "\n",
    "with wandb.init(project=\"MNIST\", name=\"training\", config={\"epochs\": 50}) as run:\n",
    "  calculate_loss = nn.CrossEntropyLoss()\n",
    "  optimizer = optim.Adam(model.parameters(), lr=0.001)\n",
    "\n",
    "  model = model.to(device)\n",
    "\n",
    "  run.watch(model, log_freq=100)\n",
    "\n",
    "  for epoch in range(epochs):\n",
    "    model.train()\n",
    "    print(f'Starting epoch {epoch}')\n",
    "\n",
    "    run.log({\n",
    "      \"epoch\": epoch,\n",
    "    })\n",
    "\n",
    "    \n",
    "    train_avg_loss = 0.0\n",
    "\n",
    "    for [idx, batch] in enumerate(dataloader):\n",
    "      data, labels = batch\n",
    "      \n",
    "      data = data.to(device)\n",
    "      labels = labels.to(device)\n",
    "      \n",
    "      optimizer.zero_grad()\n",
    "      \n",
    "      output = model(data)\n",
    "      \n",
    "      loss = calculate_loss(output, labels)\n",
    "      train_avg_loss += loss.item()\n",
    "\n",
    "      # Optional: Log batch loss periodically\n",
    "      if idx % 50 == 0:  # Every 50 batches\n",
    "        run.log({\n",
    "          \"batch_loss\": loss.item(),\n",
    "          \"batch\": epoch * len(dataloader) + idx\n",
    "        })\n",
    "\n",
    "      loss.backward()\n",
    "      \n",
    "      optimizer.step()\n",
    "\n",
    "\n",
    "    train_avg_loss = train_avg_loss / len(dataloader)\n",
    "    \n",
    "    # Validation\n",
    "\n",
    "    val_avg_loss = 0.0\n",
    "    model.eval()\n",
    "\n",
    "    with torch.no_grad():\n",
    "      for [idx, batch] in enumerate(dataloader_val):\n",
    "        data, labels = batch\n",
    "        \n",
    "        data = data.to(device)\n",
    "        labels = labels.to(device)\n",
    "        \n",
    "        output = model(data)\n",
    "        \n",
    "        loss = calculate_loss(output, labels)\n",
    "        val_avg_loss += loss.item()\n",
    "\n",
    "        # del data\n",
    "        # del labels\n",
    "        # torch.cuda.empty_cache()\n",
    "\n",
    "\n",
    "    val_avg_loss = val_avg_loss / len(dataloader_val)\n",
    "\n",
    "    run.log({\n",
    "      \"train/loss\": train_avg_loss,\n",
    "      \"val/loss\": val_avg_loss,\n",
    "      \"epoch\": epoch,\n",
    "    })\n",
    "\n",
    "  torch.save(model.state_dict(), f'model-epoch-{epoch}.pth')\n"
   ]
  },
  {
   "cell_type": "code",
   "execution_count": 5,
   "id": "1a4b6778",
   "metadata": {},
   "outputs": [],
   "source": [
    "torch.save(model.state_dict(), 'model.pth')"
   ]
  },
  {
   "cell_type": "code",
   "execution_count": 42,
   "id": "2d1fe7d1",
   "metadata": {},
   "outputs": [
    {
     "name": "stdout",
     "output_type": "stream",
     "text": [
      "predicted: 1 | actual = 1\n"
     ]
    },
    {
     "data": {
      "image/png": "[encoded data removed]",
      "text/plain": [
       "<Figure size 640x480 with 1 Axes>"
      ]
     },
     "metadata": {},
     "output_type": "display_data"
    }
   ],
   "source": [
    "import random\n",
    "import matplotlib.pyplot as plt\n",
    "\n",
    "loaded_model = timm.create_model('resnet18.a1_in1k', pretrained=False)\n",
    "\n",
    "weights = torch.load('model.pth', map_location=device)\n",
    "loaded_model.load_state_dict(weights)\n",
    "loaded_model = loaded_model.to(device)\n",
    "\n",
    "# Get a test image and label from validation_dataset\n",
    "img, lbl = validation_dataset[random.randint(0, len(validation_dataset)-1)]\n",
    "img_unsqueeze = img.unsqueeze(0).to(device)  # Add batch dimension and move to device\n",
    "\n",
    "# Load model weights into the model\n",
    "loaded_model.eval()\n",
    "\n",
    "# Forward pass\n",
    "with torch.no_grad():\n",
    "    pred = loaded_model(img_unsqueeze)\n",
    "    label = pred_class = torch.argmax(pred, dim=1).item()\n",
    "\n",
    "print(f\"predicted: {label} | actual = {lbl}\")\n",
    "\n",
    "# Convert tensor to numpy and transpose to (H, W, C)\n",
    "img_np = img.cpu().numpy().transpose(1, 2, 0)\n",
    "plt.imshow(img_np.squeeze(), cmap='gray')\n",
    "plt.axis('off')\n",
    "plt.show()\n"
   ]
  },
  {
   "cell_type": "code",
   "execution_count": null,
   "id": "51bde7fa",
   "metadata": {},
   "outputs": [],
   "source": [
    "# phd.\n",
    "\n"
   ]
  }
 ],
 "metadata": {
  "kernelspec": {
   "display_name": "Python 3",
   "language": "python",
   "name": "python3"
  },
  "language_info": {
   "codemirror_mode": {
    "name": "ipython",
    "version": 3
   },
   "file_extension": ".py",
   "mimetype": "text/x-python",
   "name": "python",
   "nbconvert_exporter": "python",
   "pygments_lexer": "ipython3",
   "version": "3.10.18"
  }
 },
 "nbformat": 4,
 "nbformat_minor": 5
}
